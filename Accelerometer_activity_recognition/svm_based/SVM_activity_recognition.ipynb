{
 "cells": [
  {
   "cell_type": "code",
   "execution_count": 53,
   "metadata": {},
   "outputs": [],
   "source": [
    "import pandas as pd\n",
    "import numpy as np\n",
    "import matplotlib.pyplot as plt\n",
    "import csv"
   ]
  },
  {
   "cell_type": "markdown",
   "metadata": {},
   "source": [
    "Preprocessing - MinMax Normalization and Segmentation"
   ]
  },
  {
   "cell_type": "code",
   "execution_count": 54,
   "metadata": {},
   "outputs": [],
   "source": [
    "def normalize_data(data, min_value=-1, max_value=1):\n",
    "    data_min = np.min(data, axis=0)\n",
    "    data_max = np.max(data, axis=0)\n",
    "    normalized_data = (data - data_min) / (data_max - data_min)  \n",
    "    normalized_data = normalized_data * (max_value - min_value) + min_value\n",
    "    return normalized_data\n"
   ]
  },
  {
   "cell_type": "code",
   "execution_count": 55,
   "metadata": {},
   "outputs": [],
   "source": [
    "def segment_data(data, window_size, overlap):\n",
    "    step = int(window_size * (1 - overlap))\n",
    "    segments = []\n",
    "    labels = []\n",
    "\n",
    "    for start in range(0, len(data) - window_size + 1, step):\n",
    "        end = start + window_size\n",
    "        segment = data[start:end, :-1]\n",
    "        label = data[start:end, -1]\n",
    "        segments.append(segment)\n",
    "        labels.append(label[0])\n",
    "    return np.array(segments), np.array(labels)"
   ]
  },
  {
   "cell_type": "code",
   "execution_count": 56,
   "metadata": {},
   "outputs": [],
   "source": [
    "data = pd.read_csv(r'D:\\Thesis\\Example_accelerometer\\dataset\\combined_dataset.csv')"
   ]
  },
  {
   "cell_type": "code",
   "execution_count": 57,
   "metadata": {},
   "outputs": [
    {
     "data": {
      "text/html": [
       "<div>\n",
       "<style scoped>\n",
       "    .dataframe tbody tr th:only-of-type {\n",
       "        vertical-align: middle;\n",
       "    }\n",
       "\n",
       "    .dataframe tbody tr th {\n",
       "        vertical-align: top;\n",
       "    }\n",
       "\n",
       "    .dataframe thead th {\n",
       "        text-align: right;\n",
       "    }\n",
       "</style>\n",
       "<table border=\"1\" class=\"dataframe\">\n",
       "  <thead>\n",
       "    <tr style=\"text-align: right;\">\n",
       "      <th></th>\n",
       "      <th>accx</th>\n",
       "      <th>accy</th>\n",
       "      <th>accz</th>\n",
       "      <th>label</th>\n",
       "    </tr>\n",
       "  </thead>\n",
       "  <tbody>\n",
       "    <tr>\n",
       "      <th>0</th>\n",
       "      <td>80</td>\n",
       "      <td>272</td>\n",
       "      <td>16752</td>\n",
       "      <td>0</td>\n",
       "    </tr>\n",
       "    <tr>\n",
       "      <th>1</th>\n",
       "      <td>64</td>\n",
       "      <td>16</td>\n",
       "      <td>16512</td>\n",
       "      <td>0</td>\n",
       "    </tr>\n",
       "    <tr>\n",
       "      <th>2</th>\n",
       "      <td>112</td>\n",
       "      <td>304</td>\n",
       "      <td>16512</td>\n",
       "      <td>0</td>\n",
       "    </tr>\n",
       "    <tr>\n",
       "      <th>3</th>\n",
       "      <td>-80</td>\n",
       "      <td>304</td>\n",
       "      <td>16752</td>\n",
       "      <td>0</td>\n",
       "    </tr>\n",
       "    <tr>\n",
       "      <th>4</th>\n",
       "      <td>-128</td>\n",
       "      <td>288</td>\n",
       "      <td>16560</td>\n",
       "      <td>0</td>\n",
       "    </tr>\n",
       "    <tr>\n",
       "      <th>...</th>\n",
       "      <td>...</td>\n",
       "      <td>...</td>\n",
       "      <td>...</td>\n",
       "      <td>...</td>\n",
       "    </tr>\n",
       "    <tr>\n",
       "      <th>2043</th>\n",
       "      <td>-624</td>\n",
       "      <td>960</td>\n",
       "      <td>16272</td>\n",
       "      <td>1</td>\n",
       "    </tr>\n",
       "    <tr>\n",
       "      <th>2044</th>\n",
       "      <td>-1056</td>\n",
       "      <td>960</td>\n",
       "      <td>16128</td>\n",
       "      <td>1</td>\n",
       "    </tr>\n",
       "    <tr>\n",
       "      <th>2045</th>\n",
       "      <td>-1168</td>\n",
       "      <td>1184</td>\n",
       "      <td>15584</td>\n",
       "      <td>1</td>\n",
       "    </tr>\n",
       "    <tr>\n",
       "      <th>2046</th>\n",
       "      <td>-1296</td>\n",
       "      <td>1104</td>\n",
       "      <td>13984</td>\n",
       "      <td>1</td>\n",
       "    </tr>\n",
       "    <tr>\n",
       "      <th>2047</th>\n",
       "      <td>-1120</td>\n",
       "      <td>928</td>\n",
       "      <td>13792</td>\n",
       "      <td>1</td>\n",
       "    </tr>\n",
       "  </tbody>\n",
       "</table>\n",
       "<p>2048 rows × 4 columns</p>\n",
       "</div>"
      ],
      "text/plain": [
       "      accx  accy   accz  label\n",
       "0       80   272  16752      0\n",
       "1       64    16  16512      0\n",
       "2      112   304  16512      0\n",
       "3      -80   304  16752      0\n",
       "4     -128   288  16560      0\n",
       "...    ...   ...    ...    ...\n",
       "2043  -624   960  16272      1\n",
       "2044 -1056   960  16128      1\n",
       "2045 -1168  1184  15584      1\n",
       "2046 -1296  1104  13984      1\n",
       "2047 -1120   928  13792      1\n",
       "\n",
       "[2048 rows x 4 columns]"
      ]
     },
     "execution_count": 57,
     "metadata": {},
     "output_type": "execute_result"
    }
   ],
   "source": [
    "data"
   ]
  },
  {
   "cell_type": "code",
   "execution_count": 58,
   "metadata": {},
   "outputs": [
    {
     "name": "stdout",
     "output_type": "stream",
     "text": [
      "accx     0\n",
      "accy     0\n",
      "accz     0\n",
      "label    0\n",
      "dtype: int64\n",
      "0\n"
     ]
    }
   ],
   "source": [
    "print(data.isnull().sum())\n",
    "print(np.isinf(data[['accx', 'accy', 'accz']].values).sum()) "
   ]
  },
  {
   "cell_type": "code",
   "execution_count": 59,
   "metadata": {},
   "outputs": [],
   "source": [
    "data = data.replace([np.inf, -np.inf], np.nan)\n",
    "data = data.dropna()  "
   ]
  },
  {
   "cell_type": "code",
   "execution_count": 60,
   "metadata": {},
   "outputs": [
    {
     "name": "stdout",
     "output_type": "stream",
     "text": [
      "Min values: [-2896 -1328 10224]\n",
      "Max values: [ 2960  2320 23040]\n"
     ]
    }
   ],
   "source": [
    "print(\"Min values:\", np.min(data[['accx', 'accy', 'accz']].values, axis=0))\n",
    "print(\"Max values:\", np.max(data[['accx', 'accy', 'accz']].values, axis=0))"
   ]
  },
  {
   "cell_type": "code",
   "execution_count": 61,
   "metadata": {},
   "outputs": [
    {
     "data": {
      "text/plain": [
       "array([[ 0.01639344, -0.12280702,  0.01872659],\n",
       "       [ 0.01092896, -0.26315789, -0.01872659],\n",
       "       [ 0.0273224 , -0.10526316, -0.01872659],\n",
       "       ...,\n",
       "       [-0.40983607,  0.37719298, -0.16354557],\n",
       "       [-0.45355191,  0.33333333, -0.41323346],\n",
       "       [-0.39344262,  0.23684211, -0.443196  ]])"
      ]
     },
     "execution_count": 61,
     "metadata": {},
     "output_type": "execute_result"
    }
   ],
   "source": [
    "normalized_data = normalize_data(data[['accx', 'accy', 'accz']].values)\n",
    "data[['accx', 'accy', 'accz']] = normalized_data\n",
    "\n",
    "normalized_data"
   ]
  },
  {
   "cell_type": "code",
   "execution_count": 62,
   "metadata": {},
   "outputs": [],
   "source": [
    "sampling_rate = 10  \n",
    "window_duration = 1  \n",
    "window_size = sampling_rate * window_duration  \n",
    "overlap = 0.5\n",
    "segments, labels = segment_data(data.values, window_size, overlap)"
   ]
  },
  {
   "cell_type": "code",
   "execution_count": 63,
   "metadata": {},
   "outputs": [
    {
     "data": {
      "text/plain": [
       "(408, 10, 3)"
      ]
     },
     "execution_count": 63,
     "metadata": {},
     "output_type": "execute_result"
    }
   ],
   "source": [
    "segments.shape"
   ]
  },
  {
   "cell_type": "code",
   "execution_count": 64,
   "metadata": {},
   "outputs": [
    {
     "name": "stdout",
     "output_type": "stream",
     "text": [
      "(408, 10, 3)\n"
     ]
    }
   ],
   "source": [
    "if len(segments.shape) == 3:\n",
    "    num_segments, window_size, num_features = segments.shape\n",
    "    print(segments.shape)\n",
    "else:\n",
    "    raise ValueError(\"Unexpected shape of segments array\")"
   ]
  },
  {
   "cell_type": "code",
   "execution_count": 65,
   "metadata": {},
   "outputs": [],
   "source": [
    "segments_reshaped = segments.reshape(num_segments, window_size * num_features)"
   ]
  },
  {
   "cell_type": "code",
   "execution_count": 66,
   "metadata": {},
   "outputs": [
    {
     "name": "stdout",
     "output_type": "stream",
     "text": [
      "Number of segments: 408\n",
      "Shape of each segment: (10, 3)\n",
      "reshaped segement: (408, 10, 3)\n",
      "reshaped segement: (408, 30)\n"
     ]
    }
   ],
   "source": [
    "print(\"Number of segments:\", num_segments)\n",
    "print(\"Shape of each segment:\", segments[0].shape)\n",
    "print(\"reshaped segement:\", segments.shape)\n",
    "print(\"reshaped segement:\", segments_reshaped.shape)"
   ]
  },
  {
   "cell_type": "code",
   "execution_count": 67,
   "metadata": {},
   "outputs": [],
   "source": [
    "def save_segments_to_csv(segments_reshaped, labels, filename):\n",
    "    with open(filename, 'w', newline='') as file:\n",
    "        writer = csv.writer(file)\n",
    "        for segment, label in zip(segments_reshaped, labels):\n",
    "            row = segment.flatten().tolist() + [label]\n",
    "            writer.writerow(row)\n",
    "save_segments_to_csv(segments_reshaped, labels, 'D:\\Thesis\\Example_accelerometer\\dataset\\segmented_data.csv')"
   ]
  },
  {
   "cell_type": "code",
   "execution_count": 68,
   "metadata": {},
   "outputs": [],
   "source": [
    "data = pd.read_csv(r'D:\\Thesis\\Example_accelerometer\\dataset\\segmented_data.csv', header=None)\n",
    "segments = data.iloc[:, :-1].values\n",
    "labels = data.iloc[:, -1].values"
   ]
  },
  {
   "cell_type": "code",
   "execution_count": 69,
   "metadata": {},
   "outputs": [],
   "source": [
    "import sklearn\n",
    "from sklearn.model_selection import train_test_split"
   ]
  },
  {
   "cell_type": "code",
   "execution_count": 70,
   "metadata": {},
   "outputs": [],
   "source": [
    "X_train, X_test, y_train, y_test = train_test_split(segments, labels, test_size=0.2, random_state=42)"
   ]
  },
  {
   "cell_type": "code",
   "execution_count": 71,
   "metadata": {},
   "outputs": [],
   "source": [
    "\n",
    "from sklearn.model_selection import GridSearchCV\n",
    "from sklearn.svm import SVC\n",
    "from sklearn.metrics import classification_report, confusion_matrix\n",
    "from sklearn.preprocessing import StandardScaler\n",
    "import seaborn as sns"
   ]
  },
  {
   "cell_type": "code",
   "execution_count": 160,
   "metadata": {},
   "outputs": [],
   "source": [
    "kernels = ['linear', 'poly', 'rbf', 'sigmoid']\n",
    "svm_models = {kernel: SVC(kernel=kernel, probability=True, random_state=42) for kernel in kernels}"
   ]
  },
  {
   "cell_type": "code",
   "execution_count": 161,
   "metadata": {},
   "outputs": [
    {
     "data": {
      "text/plain": [
       "{'linear': SVC(kernel='linear', probability=True, random_state=42),\n",
       " 'poly': SVC(kernel='poly', probability=True, random_state=42),\n",
       " 'rbf': SVC(probability=True, random_state=42),\n",
       " 'sigmoid': SVC(kernel='sigmoid', probability=True, random_state=42)}"
      ]
     },
     "execution_count": 161,
     "metadata": {},
     "output_type": "execute_result"
    }
   ],
   "source": [
    "svm_models"
   ]
  },
  {
   "cell_type": "code",
   "execution_count": 169,
   "metadata": {},
   "outputs": [
    {
     "name": "stdout",
     "output_type": "stream",
     "text": [
      "Probability enabled after training: True\n",
      "\n",
      "Results for linear kernel:\n",
      "Accuracy: 0.8658536585365854\n",
      "Classification Report:\n",
      "              precision    recall  f1-score   support\n",
      "\n",
      "         0.0       0.81      1.00      0.90        47\n",
      "         1.0       1.00      0.69      0.81        35\n",
      "\n",
      "    accuracy                           0.87        82\n",
      "   macro avg       0.91      0.84      0.85        82\n",
      "weighted avg       0.89      0.87      0.86        82\n",
      "\n",
      "Probability enabled after training: True\n",
      "\n",
      "Results for poly kernel:\n",
      "Accuracy: 0.8536585365853658\n",
      "Classification Report:\n",
      "              precision    recall  f1-score   support\n",
      "\n",
      "         0.0       0.80      1.00      0.89        47\n",
      "         1.0       1.00      0.66      0.79        35\n",
      "\n",
      "    accuracy                           0.85        82\n",
      "   macro avg       0.90      0.83      0.84        82\n",
      "weighted avg       0.88      0.85      0.85        82\n",
      "\n",
      "Probability enabled after training: True\n",
      "\n",
      "Results for rbf kernel:\n",
      "Accuracy: 1.0\n",
      "Classification Report:\n",
      "              precision    recall  f1-score   support\n",
      "\n",
      "         0.0       1.00      1.00      1.00        47\n",
      "         1.0       1.00      1.00      1.00        35\n",
      "\n",
      "    accuracy                           1.00        82\n",
      "   macro avg       1.00      1.00      1.00        82\n",
      "weighted avg       1.00      1.00      1.00        82\n",
      "\n",
      "Probability enabled after training: True\n",
      "\n",
      "Results for sigmoid kernel:\n",
      "Accuracy: 0.7682926829268293\n",
      "Classification Report:\n",
      "              precision    recall  f1-score   support\n",
      "\n",
      "         0.0       0.73      0.94      0.82        47\n",
      "         1.0       0.86      0.54      0.67        35\n",
      "\n",
      "    accuracy                           0.77        82\n",
      "   macro avg       0.80      0.74      0.74        82\n",
      "weighted avg       0.79      0.77      0.76        82\n",
      "\n"
     ]
    }
   ],
   "source": [
    "results = {}\n",
    "for kernel, model in svm_models.items():\n",
    "    model.fit(X_train, y_train)\n",
    "    print(\"Probability enabled after training:\", model.probability)\n",
    "    y_pred = model.predict(X_test)\n",
    "    accuracy = model.score(X_test, y_test)\n",
    "    report = classification_report(y_test, y_pred)\n",
    "    \n",
    "    results[kernel] = {\n",
    "        'model': model,\n",
    "        'accuracy': accuracy,\n",
    "        'report': report\n",
    "    }\n",
    "    \n",
    "    print(f\"\\nResults for {kernel} kernel:\")\n",
    "    print(f\"Accuracy: {accuracy}\")\n",
    "    print(\"Classification Report:\")\n",
    "    print(report)"
   ]
  },
  {
   "cell_type": "code",
   "execution_count": 170,
   "metadata": {},
   "outputs": [
    {
     "data": {
      "image/png": "[encoded data removed]",
      "text/plain": [
       "<Figure size 1000x600 with 1 Axes>"
      ]
     },
     "metadata": {},
     "output_type": "display_data"
    },
    {
     "data": {
      "image/png": "[encoded data removed]",
      "text/plain": [
       "<Figure size 1600x1600 with 8 Axes>"
      ]
     },
     "metadata": {},
     "output_type": "display_data"
    }
   ],
   "source": [
    "plt.figure(figsize=(10, 6))\n",
    "accuracies = [results[kernel]['accuracy'] for kernel in kernels]\n",
    "plt.bar(kernels, accuracies)\n",
    "plt.title('SVM Model Accuracy Comparison')\n",
    "plt.xlabel('Kernel')\n",
    "plt.ylabel('Accuracy')\n",
    "plt.ylim(0, 1)\n",
    "plt.show()\n",
    "\n",
    "fig, axes = plt.subplots(2, 2, figsize=(16, 16))\n",
    "axes = axes.ravel()\n",
    "\n",
    "for i, (kernel, result) in enumerate(results.items()):\n",
    "    cm = confusion_matrix(y_test, result['model'].predict(X_test))\n",
    "    sns.heatmap(cm, annot=True, fmt='d', ax=axes[i])\n",
    "    axes[i].set_title(f'Confusion Matrix - {kernel} kernel')\n",
    "    axes[i].set_xlabel('Predicted')\n",
    "    axes[i].set_ylabel('True')\n",
    "\n",
    "plt.tight_layout()\n",
    "plt.show()"
   ]
  },
  {
   "cell_type": "code",
   "execution_count": 172,
   "metadata": {},
   "outputs": [
    {
     "name": "stdout",
     "output_type": "stream",
     "text": [
      "Best parameters: {'C': 0.1, 'gamma': 1, 'kernel': 'rbf'}\n",
      "Best cross-validation score: 0.9876923076923078\n",
      "\n",
      "Best model results (after tuning):\n",
      "Accuracy: 1.0\n",
      "Classification Report:\n",
      "              precision    recall  f1-score   support\n",
      "\n",
      "         0.0       1.00      1.00      1.00        47\n",
      "         1.0       1.00      1.00      1.00        35\n",
      "\n",
      "    accuracy                           1.00        82\n",
      "   macro avg       1.00      1.00      1.00        82\n",
      "weighted avg       1.00      1.00      1.00        82\n",
      "\n"
     ]
    }
   ],
   "source": [
    "best_kernel = max(results, key=lambda k: results[k]['accuracy'])\n",
    "best_model = results[best_kernel]['model']\n",
    "\n",
    "param_grid = {\n",
    "    'C': [0.1, 1, 10, 100],\n",
    "    'gamma': ['scale', 'auto', 0.1, 1],\n",
    "    'kernel': [best_kernel]\n",
    "}\n",
    "svc = SVC(probability=True)\n",
    "grid_search = GridSearchCV(svc, param_grid, cv=5, scoring='accuracy', n_jobs=-1)\n",
    "grid_search.fit(X_train, y_train)\n",
    "\n",
    "print(\"Best parameters:\", grid_search.best_params_)\n",
    "print(\"Best cross-validation score:\", grid_search.best_score_)\n",
    "\n",
    "best_model = grid_search.best_estimator_\n",
    "y_pred = best_model.predict(X_test)\n",
    "accuracy = best_model.score(X_test, y_test)\n",
    "report = classification_report(y_test, y_pred)\n",
    "\n",
    "print(f\"\\nBest model results (after tuning):\")\n",
    "print(f\"Accuracy: {accuracy}\")\n",
    "print(\"Classification Report:\")\n",
    "print(report)"
   ]
  },
  {
   "cell_type": "code",
   "execution_count": 173,
   "metadata": {},
   "outputs": [
    {
     "name": "stdout",
     "output_type": "stream",
     "text": [
      "Probability enabled after training: True\n"
     ]
    }
   ],
   "source": [
    "print(\"Probability enabled after training:\", best_model.probability)"
   ]
  },
  {
   "cell_type": "code",
   "execution_count": 174,
   "metadata": {},
   "outputs": [
    {
     "data": {
      "text/plain": [
       "['D:\\\\Thesis\\\\Example_accelerometer\\\\svc_model.joblib']"
      ]
     },
     "execution_count": 174,
     "metadata": {},
     "output_type": "execute_result"
    }
   ],
   "source": [
    "import joblib\n",
    "\n",
    "joblib.dump(best_model, 'D:\\\\Thesis\\\\Example_accelerometer\\\\svc_model.joblib')"
   ]
  },
  {
   "cell_type": "code",
   "execution_count": 187,
   "metadata": {},
   "outputs": [
    {
     "name": "stdout",
     "output_type": "stream",
     "text": [
      "done\n"
     ]
    }
   ],
   "source": [
    "from skl2onnx.common.data_types import FloatTensorType\n",
    "from skl2onnx import convert_sklearn, to_onnx, update_registered_converter\n",
    "from skl2onnx.common.shape_calculator import (\n",
    "    calculate_linear_classifier_output_shapes\n",
    ")\n",
    "print(\"done\")\n",
    "import onnx\n",
    "import onnxruntime as ort\n",
    "import numpy as np"
   ]
  },
  {
   "cell_type": "code",
   "execution_count": 229,
   "metadata": {},
   "outputs": [
    {
     "name": "stdout",
     "output_type": "stream",
     "text": [
      "Probability enabled: True\n"
     ]
    }
   ],
   "source": [
    "model_svc_file = 'D:\\\\Thesis\\\\Example_accelerometer\\\\svc_model.joblib'\n",
    "model_svc = joblib.load(model_svc_file)\n",
    "\n",
    "print(\"Probability enabled:\", model_svc.probability) "
   ]
  },
  {
   "cell_type": "code",
   "execution_count": 222,
   "metadata": {},
   "outputs": [],
   "source": [
    "# label 0\n",
    "testingexample = [0.016393442622951, -0.12280701754386, 0.0187265917603, 0.010928961748634, -0.263157894736842, -0.0187265917603,\n",
    "     0.027322404371585, -0.105263157894737, -0.0187265917603, -0.038251366120219, -0.105263157894737, 0.0187265917603,\n",
    "     -0.054644808743169, -0.114035087719298, -0.01123595505618, 0.027322404371585, -0.087719298245614, 0.0187265917603,\n",
    "     0.027322404371585, -0.271929824561403, 0.013732833957553, 0.027322404371585, -0.114035087719298, 0.016229712858926,\n",
    "     0.021857923497268, -0.105263157894737, -0.016229712858926, -0.049180327868853, -0.271929824561403, -0.016229712858926]"
   ]
  },
  {
   "cell_type": "code",
   "execution_count": 208,
   "metadata": {},
   "outputs": [],
   "source": [
    "# label 1\n",
    "testingexample = [0.191256830601093, -0.087719298245614, -0.136079900124844,\n",
    "                      0.273224043715847, 0.166666666666667, -0.00374531835206,\n",
    "                      0.147540983606557, -0.06140350877193, 0.013732833957553,\n",
    "                      -0.136612021857924, -0.263157894736842, 0.223470661672909,\n",
    "                      -0.054644808743169, -0.219298245614035, 0.403245942571785,\n",
    "                      0.060109289617486, -0.18421052631579, 0.3458177278402,\n",
    "                      0.300546448087432, 0.105263157894737, 0.343320848938826,\n",
    "                      0.344262295081967, 0.12280701754386, 0.243445692883895,\n",
    "                      0.26775956284153, 0.219298245614035, 0.028714107365793,\n",
    "                      0.14207650273224, 0.166666666666667, -0.021223470661673]"
   ]
  },
  {
   "cell_type": "code",
   "execution_count": 242,
   "metadata": {},
   "outputs": [],
   "source": [
    "# label 1\n",
    "testingexample = [\n",
    "    0.431693989071038, -0.535087719298246, 0.51310861423221,\n",
    "    0.131147540983606, -0.307017543859649, 0.243445692883895,\n",
    "    0.038251366120219, -0.12280701754386, 0.056179775280899,\n",
    "    -0.120218579234973, -0.131578947368421, 0.036204744069913,\n",
    "    -0.229508196721311, -0.070175438596491, 0.001248439450687,\n",
    "    -0.420765027322404, 0.052631578947368, 0.056179775280899,\n",
    "    -0.442622950819672, 0.008771929824561, -0.076154806491885,\n",
    "    -0.355191256830601, 0.087719298245614, -0.255930087390761,\n",
    "    -0.40983606557377, 0.114035087719298, -0.273408239700375,\n",
    "    -0.469945355191257, 0.464912280701754, -0.285892634207241\n",
    "]"
   ]
  },
  {
   "cell_type": "code",
   "execution_count": 236,
   "metadata": {},
   "outputs": [],
   "source": [
    "# label 0\n",
    "testingexample = [\n",
    "    0.016393442622951, -0.12280701754386, -0.0187265917603,\n",
    "    0.027322404371585, -0.114035087719298, -0.0187265917603,\n",
    "    0.016393442622951, -0.271929824561403, -0.013732833957553,\n",
    "    0.021857923497268, -0.114035087719298, -0.006242197253433,\n",
    "    0.010928961748634, -0.105263157894737, 0.046192259675406,\n",
    "    0.010928961748634, -0.12280701754386, -0.0187265917603,\n",
    "    0.016393442622951, -0.12280701754386, -0.0187265917603,\n",
    "    0.021857923497268, -0.12280701754386, -0.0187265917603,\n",
    "    -0.049180327868853, -0.096491228070175, 0.013732833957553,\n",
    "    -0.005464480874317, -0.289473684210526, 0.013732833957553\n",
    "]\n"
   ]
  },
  {
   "cell_type": "code",
   "execution_count": 243,
   "metadata": {},
   "outputs": [],
   "source": [
    "features = np.array([testingexample]).astype(np.float32)"
   ]
  },
  {
   "cell_type": "code",
   "execution_count": 244,
   "metadata": {},
   "outputs": [],
   "source": [
    "result1_1 = model_svc.predict(features)[0]\n",
    "result1_2 = model_svc.predict_proba(features)[0]"
   ]
  },
  {
   "cell_type": "code",
   "execution_count": 245,
   "metadata": {},
   "outputs": [
    {
     "name": "stdout",
     "output_type": "stream",
     "text": [
      "svm1_file, SKLEARN result is 1.0, [0.00284318 0.99715682]\n",
      "\n"
     ]
    }
   ],
   "source": [
    "print('svm1_file, SKLEARN result is %s, %s\\n'%(str(result1_1), str(result1_2)))"
   ]
  },
  {
   "cell_type": "code",
   "execution_count": 246,
   "metadata": {},
   "outputs": [],
   "source": [
    "initial_types = [('float_input',FloatTensorType([None, 30]))]\n",
    "onx1 = convert_sklearn(model_svc, initial_types = initial_types)\n",
    "with open(\"svm_conv.onnx\", \"wb\") as f:\n",
    "        f.write(onx1.SerializeToString())\n"
   ]
  },
  {
   "cell_type": "code",
   "execution_count": 247,
   "metadata": {},
   "outputs": [
    {
     "name": "stdout",
     "output_type": "stream",
     "text": [
      "[array([1], dtype=int64), [{0: 0.002843238413333893, 1: 0.9971568584442139}]]\n"
     ]
    }
   ],
   "source": [
    "sess1 = rt.InferenceSession(onx1.SerializeToString())\n",
    "res1 = sess1.run(None, {'float_input': features.astype(np.float32)})\n",
    "print(res1)"
   ]
  },
  {
   "cell_type": "code",
   "execution_count": null,
   "metadata": {},
   "outputs": [],
   "source": []
  }
 ],
 "metadata": {
  "kernelspec": {
   "display_name": "Python 3 (ipykernel)",
   "language": "python",
   "name": "python3"
  },
  "language_info": {
   "codemirror_mode": {
    "name": "ipython",
    "version": 3
   },
   "file_extension": ".py",
   "mimetype": "text/x-python",
   "name": "python",
   "nbconvert_exporter": "python",
   "pygments_lexer": "ipython3",
   "version": "3.7.4"
  }
 },
 "nbformat": 4,
 "nbformat_minor": 4
}
