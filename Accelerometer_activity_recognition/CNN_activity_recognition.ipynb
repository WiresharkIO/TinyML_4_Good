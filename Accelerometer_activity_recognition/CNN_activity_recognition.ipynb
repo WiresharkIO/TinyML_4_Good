{
 "cells": [
  {
   "cell_type": "code",
   "execution_count": 3,
   "metadata": {},
   "outputs": [],
   "source": [
    "import pandas as pd\n",
    "import numpy as np\n",
    "import matplotlib.pyplot as plt\n",
    "import csv"
   ]
  },
  {
   "cell_type": "markdown",
   "metadata": {},
   "source": [
    "code to convert txt to csv"
   ]
  },
  {
   "cell_type": "code",
   "execution_count": 4,
   "metadata": {},
   "outputs": [
    {
     "name": "stdout",
     "output_type": "stream",
     "text": [
      "Conversion complete. Output saved to D:\\Thesis\\Example_accelerometer\\dataset\\UPDOWN.csv\n"
     ]
    }
   ],
   "source": [
    "\n",
    "input_file = r'D:\\Thesis\\Example_accelerometer\\dataset\\UPDOWN.txt'\n",
    "output_file = r'D:\\Thesis\\Example_accelerometer\\dataset\\UPDOWN.csv'\n",
    "with open(input_file, 'r') as infile, open(output_file, 'w', newline='') as outfile:\n",
    "    writer = csv.writer(outfile)\n",
    "    writer.writerow(['accx', 'accy', 'accz', 'label'])\n",
    "    for line in infile:\n",
    "        data = line.strip().split(',')\n",
    "        writer.writerow(data)\n",
    "print(f\"Conversion complete. Output saved to {output_file}\")"
   ]
  },
  {
   "cell_type": "markdown",
   "metadata": {},
   "source": [
    "Preprocessing - MinMax Normalization and Segmentation"
   ]
  },
  {
   "cell_type": "code",
   "execution_count": 6,
   "metadata": {},
   "outputs": [],
   "source": [
    "def normalize_data(data, min_value=-1, max_value=1):\n",
    "    data_min = np.min(data, axis=0)\n",
    "    data_max = np.max(data, axis=0)\n",
    "    normalized_data = (data - data_min) / (data_max - data_min)  \n",
    "    normalized_data = normalized_data * (max_value - min_value) + min_value\n",
    "    return normalized_data\n"
   ]
  },
  {
   "cell_type": "code",
   "execution_count": 7,
   "metadata": {},
   "outputs": [],
   "source": [
    "def segment_data(data, window_size, overlap):\n",
    "    step = int(window_size * (1 - overlap))\n",
    "    segments = []\n",
    "    labels = []\n",
    "\n",
    "    for start in range(0, len(data) - window_size + 1, step):\n",
    "        end = start + window_size\n",
    "        segment = data[start:end, :-1]\n",
    "        label = data[start:end, -1]\n",
    "        segments.append(segment)\n",
    "        labels.append(label[0])\n",
    "    return np.array(segments), np.array(labels)"
   ]
  },
  {
   "cell_type": "markdown",
   "metadata": {},
   "source": [
    "Combining 2 csv files to single csv file."
   ]
  },
  {
   "cell_type": "code",
   "execution_count": 8,
   "metadata": {},
   "outputs": [],
   "source": [
    "df1 = pd.read_csv(r'D:\\Thesis\\Example_accelerometer\\dataset\\IDLE.csv')\n",
    "df2 = pd.read_csv(r'D:\\Thesis\\Example_accelerometer\\dataset\\UPDOWN.csv')\n",
    "data = pd.concat([df1, df2], ignore_index=True)\n",
    "data.to_csv('D:\\Thesis\\Example_accelerometer\\dataset\\combined_dataset.csv', index=False)"
   ]
  },
  {
   "cell_type": "markdown",
   "metadata": {},
   "source": [
    "Checking for 'Null' values in the dataset to prevent from anomalies during normalization."
   ]
  },
  {
   "cell_type": "code",
   "execution_count": 9,
   "metadata": {},
   "outputs": [
    {
     "name": "stdout",
     "output_type": "stream",
     "text": [
      "accx     0\n",
      "accy     0\n",
      "accz     0\n",
      "label    0\n",
      "dtype: int64\n",
      "0\n"
     ]
    }
   ],
   "source": [
    "print(data.isnull().sum())\n",
    "print(np.isinf(data[['accx', 'accy', 'accz']].values).sum()) \n"
   ]
  },
  {
   "cell_type": "code",
   "execution_count": 10,
   "metadata": {},
   "outputs": [],
   "source": [
    "data = data.replace([np.inf, -np.inf], np.nan)\n",
    "data = data.dropna()  \n"
   ]
  },
  {
   "cell_type": "code",
   "execution_count": 11,
   "metadata": {},
   "outputs": [
    {
     "name": "stdout",
     "output_type": "stream",
     "text": [
      "Min values: [-2896 -1328 10224]\n",
      "Max values: [ 2960  2320 23040]\n"
     ]
    }
   ],
   "source": [
    "print(\"Min values:\", np.min(data[['accx', 'accy', 'accz']].values, axis=0))\n",
    "print(\"Max values:\", np.max(data[['accx', 'accy', 'accz']].values, axis=0))\n"
   ]
  },
  {
   "cell_type": "code",
   "execution_count": 12,
   "metadata": {},
   "outputs": [],
   "source": [
    "normalized_data = normalize_data(data[['accx', 'accy', 'accz']].values)\n",
    "\n",
    "data[['accx', 'accy', 'accz']] = normalized_data"
   ]
  },
  {
   "cell_type": "code",
   "execution_count": null,
   "metadata": {},
   "outputs": [],
   "source": [
    "np.set_printoptions(threshold=np.inf)\n",
    "\n",
    "normalized_data"
   ]
  },
  {
   "cell_type": "code",
   "execution_count": 15,
   "metadata": {},
   "outputs": [
    {
     "name": "stdout",
     "output_type": "stream",
     "text": [
      "Number of segments: 408\n",
      "Shape of each segment: (10, 3)\n"
     ]
    }
   ],
   "source": [
    "\n",
    "sampling_rate = 10  \n",
    "window_duration = 1  \n",
    "window_size = sampling_rate * window_duration  \n",
    "overlap = 0.5\n",
    "segments, labels = segment_data(data.values, window_size, overlap)\n",
    "print(\"Number of segments:\", len(segments))\n",
    "print(\"Shape of each segment:\", segments[0].shape)\n"
   ]
  },
  {
   "cell_type": "code",
   "execution_count": 16,
   "metadata": {},
   "outputs": [],
   "source": [
    "def save_segments_to_csv(segments, labels, filename):\n",
    "    with open(filename, 'w', newline='') as file:\n",
    "        writer = csv.writer(file)\n",
    "        for segment, label in zip(segments, labels):\n",
    "            row = segment.flatten().tolist() + [label]\n",
    "            writer.writerow(row)\n",
    "save_segments_to_csv(segments, labels, 'D:\\Thesis\\Example_accelerometer\\dataset\\segmented_data.csv')"
   ]
  },
  {
   "cell_type": "code",
   "execution_count": 17,
   "metadata": {},
   "outputs": [],
   "source": [
    "data = pd.read_csv(r'D:\\Thesis\\Example_accelerometer\\dataset\\segmented_data.csv', header=None)\n",
    "segments = data.iloc[:, :-1].values\n",
    "labels = data.iloc[:, -1].values"
   ]
  },
  {
   "cell_type": "code",
   "execution_count": 19,
   "metadata": {},
   "outputs": [],
   "source": [
    "segments = data.iloc[:, :-1].values\n",
    "labels = data.iloc[:, -1].values"
   ]
  },
  {
   "cell_type": "code",
   "execution_count": 20,
   "metadata": {},
   "outputs": [],
   "source": [
    "num_segments, window_size = segments.shape\n",
    "segments = segments.reshape((num_segments, window_size // 3, 3))"
   ]
  },
  {
   "cell_type": "code",
   "execution_count": 21,
   "metadata": {},
   "outputs": [],
   "source": [
    "if len(segments.shape) == 3:\n",
    "    num_segments, window_size, num_features = segments.shape\n",
    "else:\n",
    "    raise ValueError(\"Unexpected shape of segments array\")"
   ]
  },
  {
   "cell_type": "code",
   "execution_count": 22,
   "metadata": {},
   "outputs": [
    {
     "name": "stdout",
     "output_type": "stream",
     "text": [
      "Number of segments: 408\n",
      "Shape of each segment: (10, 3)\n"
     ]
    }
   ],
   "source": [
    "print(\"Number of segments:\", num_segments)\n",
    "print(\"Shape of each segment:\", segments[0].shape)"
   ]
  },
  {
   "cell_type": "code",
   "execution_count": 23,
   "metadata": {},
   "outputs": [
    {
     "data": {
      "text/plain": [
       "(408, 10, 3)"
      ]
     },
     "execution_count": 23,
     "metadata": {},
     "output_type": "execute_result"
    }
   ],
   "source": [
    "segments.shape"
   ]
  },
  {
   "cell_type": "code",
   "execution_count": 25,
   "metadata": {},
   "outputs": [],
   "source": [
    "import sklearn\n",
    "from sklearn.model_selection import train_test_split"
   ]
  },
  {
   "cell_type": "code",
   "execution_count": 26,
   "metadata": {},
   "outputs": [],
   "source": [
    "X_train, X_test, y_train, y_test = train_test_split(segments, labels, test_size=0.2, random_state=42)\n"
   ]
  },
  {
   "cell_type": "code",
   "execution_count": 27,
   "metadata": {},
   "outputs": [],
   "source": [
    "import tensorflow as tf\n",
    "from tensorflow.keras.models import Sequential\n",
    "from tensorflow.keras.layers import Dense, Conv1D, MaxPooling1D, Flatten, Dropout\n"
   ]
  },
  {
   "cell_type": "code",
   "execution_count": 31,
   "metadata": {},
   "outputs": [],
   "source": [
    "model = Sequential([\n",
    "    Conv1D(filters=64, kernel_size=3, activation='relu', input_shape=(X_train.shape[1], X_train.shape[2])),\n",
    "    MaxPooling1D(pool_size=2),\n",
    "    Flatten(),\n",
    "    Dense(100, activation='relu'),\n",
    "    Dropout(0.5),\n",
    "    Dense(1, activation='sigmoid')\n",
    "])\n"
   ]
  },
  {
   "cell_type": "markdown",
   "metadata": {},
   "source": [
    "Just a heads-up, checked the model prediction during Inference, and it is not an overfitted model."
   ]
  },
  {
   "cell_type": "code",
   "execution_count": 32,
   "metadata": {
    "scrolled": false
   },
   "outputs": [
    {
     "name": "stdout",
     "output_type": "stream",
     "text": [
      "Model: \"sequential_1\"\n",
      "_________________________________________________________________\n",
      " Layer (type)                Output Shape              Param #   \n",
      "=================================================================\n",
      " conv1d_1 (Conv1D)           (None, 8, 64)             640       \n",
      "                                                                 \n",
      " max_pooling1d_1 (MaxPooling  (None, 4, 64)            0         \n",
      " 1D)                                                             \n",
      "                                                                 \n",
      " flatten_1 (Flatten)         (None, 256)               0         \n",
      "                                                                 \n",
      " dense_2 (Dense)             (None, 100)               25700     \n",
      "                                                                 \n",
      " dropout_1 (Dropout)         (None, 100)               0         \n",
      "                                                                 \n",
      " dense_3 (Dense)             (None, 1)                 101       \n",
      "                                                                 \n",
      "=================================================================\n",
      "Total params: 26,441\n",
      "Trainable params: 26,441\n",
      "Non-trainable params: 0\n",
      "_________________________________________________________________\n",
      "Epoch 1/50\n",
      "11/11 [==============================] - 1s 20ms/step - loss: 0.6109 - accuracy: 0.5337 - val_loss: 0.5666 - val_accuracy: 0.4268\n",
      "Epoch 2/50\n",
      "11/11 [==============================] - 0s 7ms/step - loss: 0.4970 - accuracy: 0.6380 - val_loss: 0.4697 - val_accuracy: 1.0000\n",
      "Epoch 3/50\n",
      "11/11 [==============================] - 0s 6ms/step - loss: 0.3954 - accuracy: 0.9724 - val_loss: 0.3829 - val_accuracy: 1.0000\n",
      "Epoch 4/50\n",
      "11/11 [==============================] - 0s 6ms/step - loss: 0.3197 - accuracy: 0.9847 - val_loss: 0.3037 - val_accuracy: 1.0000\n",
      "Epoch 5/50\n",
      "11/11 [==============================] - 0s 6ms/step - loss: 0.2502 - accuracy: 0.9847 - val_loss: 0.2226 - val_accuracy: 1.0000\n",
      "Epoch 6/50\n",
      "11/11 [==============================] - 0s 8ms/step - loss: 0.1790 - accuracy: 0.9908 - val_loss: 0.1471 - val_accuracy: 1.0000\n",
      "Epoch 7/50\n",
      "11/11 [==============================] - 0s 6ms/step - loss: 0.1276 - accuracy: 0.9877 - val_loss: 0.0943 - val_accuracy: 1.0000\n",
      "Epoch 8/50\n",
      "11/11 [==============================] - 0s 6ms/step - loss: 0.0988 - accuracy: 0.9877 - val_loss: 0.0620 - val_accuracy: 1.0000\n",
      "Epoch 9/50\n",
      "11/11 [==============================] - 0s 6ms/step - loss: 0.0788 - accuracy: 0.9877 - val_loss: 0.0429 - val_accuracy: 1.0000\n",
      "Epoch 10/50\n",
      "11/11 [==============================] - 0s 6ms/step - loss: 0.0695 - accuracy: 0.9877 - val_loss: 0.0333 - val_accuracy: 1.0000\n",
      "Epoch 11/50\n",
      "11/11 [==============================] - 0s 6ms/step - loss: 0.0634 - accuracy: 0.9877 - val_loss: 0.0290 - val_accuracy: 1.0000\n",
      "Epoch 12/50\n",
      "11/11 [==============================] - 0s 7ms/step - loss: 0.0555 - accuracy: 0.9877 - val_loss: 0.0219 - val_accuracy: 1.0000\n",
      "Epoch 13/50\n",
      "11/11 [==============================] - 0s 6ms/step - loss: 0.0522 - accuracy: 0.9908 - val_loss: 0.0208 - val_accuracy: 1.0000\n",
      "Epoch 14/50\n",
      "11/11 [==============================] - 0s 7ms/step - loss: 0.0475 - accuracy: 0.9908 - val_loss: 0.0183 - val_accuracy: 1.0000\n",
      "Epoch 15/50\n",
      "11/11 [==============================] - 0s 7ms/step - loss: 0.0483 - accuracy: 0.9908 - val_loss: 0.0140 - val_accuracy: 1.0000\n",
      "Epoch 16/50\n",
      "11/11 [==============================] - 0s 7ms/step - loss: 0.0498 - accuracy: 0.9908 - val_loss: 0.0135 - val_accuracy: 1.0000\n",
      "Epoch 17/50\n",
      "11/11 [==============================] - 0s 7ms/step - loss: 0.0507 - accuracy: 0.9908 - val_loss: 0.0144 - val_accuracy: 1.0000\n",
      "Epoch 18/50\n",
      "11/11 [==============================] - 0s 6ms/step - loss: 0.0501 - accuracy: 0.9908 - val_loss: 0.0129 - val_accuracy: 1.0000\n",
      "Epoch 19/50\n",
      "11/11 [==============================] - 0s 7ms/step - loss: 0.0490 - accuracy: 0.9908 - val_loss: 0.0126 - val_accuracy: 1.0000\n",
      "Epoch 20/50\n",
      "11/11 [==============================] - 0s 7ms/step - loss: 0.0444 - accuracy: 0.9908 - val_loss: 0.0122 - val_accuracy: 1.0000\n",
      "Epoch 21/50\n",
      "11/11 [==============================] - 0s 7ms/step - loss: 0.0418 - accuracy: 0.9908 - val_loss: 0.0112 - val_accuracy: 1.0000\n",
      "Epoch 22/50\n",
      "11/11 [==============================] - 0s 6ms/step - loss: 0.0534 - accuracy: 0.9908 - val_loss: 0.0107 - val_accuracy: 1.0000\n",
      "Epoch 23/50\n",
      "11/11 [==============================] - 0s 6ms/step - loss: 0.0410 - accuracy: 0.9908 - val_loss: 0.0098 - val_accuracy: 1.0000\n",
      "Epoch 24/50\n",
      "11/11 [==============================] - 0s 6ms/step - loss: 0.0464 - accuracy: 0.9908 - val_loss: 0.0104 - val_accuracy: 1.0000\n",
      "Epoch 25/50\n",
      "11/11 [==============================] - 0s 7ms/step - loss: 0.0407 - accuracy: 0.9908 - val_loss: 0.0099 - val_accuracy: 1.0000\n",
      "Epoch 26/50\n",
      "11/11 [==============================] - 0s 7ms/step - loss: 0.0426 - accuracy: 0.9908 - val_loss: 0.0103 - val_accuracy: 1.0000\n",
      "Epoch 27/50\n",
      "11/11 [==============================] - 0s 7ms/step - loss: 0.0453 - accuracy: 0.9908 - val_loss: 0.0103 - val_accuracy: 1.0000\n",
      "Epoch 28/50\n",
      "11/11 [==============================] - 0s 7ms/step - loss: 0.0372 - accuracy: 0.9908 - val_loss: 0.0111 - val_accuracy: 1.0000\n",
      "Epoch 29/50\n",
      "11/11 [==============================] - 0s 6ms/step - loss: 0.0408 - accuracy: 0.9908 - val_loss: 0.0102 - val_accuracy: 1.0000\n",
      "Epoch 30/50\n",
      "11/11 [==============================] - 0s 7ms/step - loss: 0.0468 - accuracy: 0.9908 - val_loss: 0.0093 - val_accuracy: 1.0000\n",
      "Epoch 31/50\n",
      "11/11 [==============================] - 0s 6ms/step - loss: 0.0454 - accuracy: 0.9908 - val_loss: 0.0092 - val_accuracy: 1.0000\n",
      "Epoch 32/50\n",
      "11/11 [==============================] - 0s 6ms/step - loss: 0.0362 - accuracy: 0.9908 - val_loss: 0.0115 - val_accuracy: 1.0000\n",
      "Epoch 33/50\n",
      "11/11 [==============================] - 0s 6ms/step - loss: 0.0431 - accuracy: 0.9908 - val_loss: 0.0098 - val_accuracy: 1.0000\n",
      "Epoch 34/50\n",
      "11/11 [==============================] - 0s 7ms/step - loss: 0.0300 - accuracy: 0.9908 - val_loss: 0.0075 - val_accuracy: 1.0000\n",
      "Epoch 35/50\n",
      "11/11 [==============================] - 0s 9ms/step - loss: 0.0393 - accuracy: 0.9908 - val_loss: 0.0099 - val_accuracy: 1.0000\n",
      "Epoch 36/50\n",
      "11/11 [==============================] - 0s 6ms/step - loss: 0.0349 - accuracy: 0.9939 - val_loss: 0.0097 - val_accuracy: 1.0000\n",
      "Epoch 37/50\n",
      "11/11 [==============================] - 0s 6ms/step - loss: 0.0420 - accuracy: 0.9908 - val_loss: 0.0099 - val_accuracy: 1.0000\n",
      "Epoch 38/50\n",
      "11/11 [==============================] - 0s 7ms/step - loss: 0.0366 - accuracy: 0.9908 - val_loss: 0.0084 - val_accuracy: 1.0000\n",
      "Epoch 39/50\n",
      "11/11 [==============================] - 0s 14ms/step - loss: 0.0401 - accuracy: 0.9908 - val_loss: 0.0069 - val_accuracy: 1.0000\n",
      "Epoch 40/50\n",
      "11/11 [==============================] - 0s 12ms/step - loss: 0.0318 - accuracy: 0.9908 - val_loss: 0.0096 - val_accuracy: 1.0000\n",
      "Epoch 41/50\n",
      "11/11 [==============================] - 0s 10ms/step - loss: 0.0407 - accuracy: 0.9908 - val_loss: 0.0093 - val_accuracy: 1.0000\n",
      "Epoch 42/50\n",
      "11/11 [==============================] - 0s 8ms/step - loss: 0.0404 - accuracy: 0.9908 - val_loss: 0.0067 - val_accuracy: 1.0000\n",
      "Epoch 43/50\n",
      "11/11 [==============================] - 0s 7ms/step - loss: 0.0367 - accuracy: 0.9908 - val_loss: 0.0095 - val_accuracy: 1.0000\n",
      "Epoch 44/50\n",
      "11/11 [==============================] - 0s 7ms/step - loss: 0.0399 - accuracy: 0.9939 - val_loss: 0.0069 - val_accuracy: 1.0000\n",
      "Epoch 45/50\n",
      "11/11 [==============================] - 0s 6ms/step - loss: 0.0382 - accuracy: 0.9908 - val_loss: 0.0073 - val_accuracy: 1.0000\n",
      "Epoch 46/50\n",
      "11/11 [==============================] - 0s 6ms/step - loss: 0.0319 - accuracy: 0.9939 - val_loss: 0.0113 - val_accuracy: 1.0000\n",
      "Epoch 47/50\n",
      "11/11 [==============================] - 0s 6ms/step - loss: 0.0432 - accuracy: 0.9939 - val_loss: 0.0199 - val_accuracy: 1.0000\n",
      "Epoch 48/50\n",
      "11/11 [==============================] - 0s 6ms/step - loss: 0.0399 - accuracy: 0.9939 - val_loss: 0.0202 - val_accuracy: 1.0000\n",
      "Epoch 49/50\n",
      "11/11 [==============================] - 0s 7ms/step - loss: 0.0407 - accuracy: 0.9939 - val_loss: 0.0183 - val_accuracy: 1.0000\n",
      "Epoch 50/50\n"
     ]
    },
    {
     "name": "stdout",
     "output_type": "stream",
     "text": [
      "11/11 [==============================] - 0s 7ms/step - loss: 0.0319 - accuracy: 0.9939 - val_loss: 0.0086 - val_accuracy: 1.0000\n"
     ]
    },
    {
     "data": {
      "image/png": "[encoded data removed]",
      "text/plain": [
       "<Figure size 640x480 with 1 Axes>"
      ]
     },
     "metadata": {},
     "output_type": "display_data"
    },
    {
     "data": {
      "image/png": "[encoded data removed]",
      "text/plain": [
       "<Figure size 640x480 with 1 Axes>"
      ]
     },
     "metadata": {},
     "output_type": "display_data"
    }
   ],
   "source": [
    "model.compile(optimizer='adam', loss='binary_crossentropy', metrics=['accuracy'])\n",
    "model.summary()\n",
    "history = model.fit(X_train, y_train, epochs=50, batch_size=32, validation_data=(X_test, y_test))\n",
    "\n",
    "plt.plot(history.history['accuracy'])\n",
    "plt.plot(history.history['val_accuracy'])\n",
    "plt.title('Model accuracy')\n",
    "plt.ylabel('Accuracy')\n",
    "plt.xlabel('Epoch')\n",
    "plt.legend(['Train', 'Test'], loc='upper left')\n",
    "plt.show()\n",
    "\n",
    "plt.plot(history.history['loss'])\n",
    "plt.plot(history.history['val_loss'])\n",
    "plt.title('Model loss')\n",
    "plt.ylabel('Loss')\n",
    "plt.xlabel('Epoch')\n",
    "plt.legend(['Train', 'Test'], loc='upper left')\n",
    "plt.show()"
   ]
  },
  {
   "cell_type": "markdown",
   "metadata": {},
   "source": [
    "Converting the model to quantized version, to save possible memory allocations (for Inferencing in STM32)."
   ]
  },
  {
   "cell_type": "code",
   "execution_count": 33,
   "metadata": {},
   "outputs": [
    {
     "name": "stderr",
     "output_type": "stream",
     "text": [
      "WARNING:absl:Found untraced functions such as _jit_compiled_convolution_op, _update_step_xla while saving (showing 2 of 2). These functions will not be directly callable after loading.\n"
     ]
    },
    {
     "name": "stdout",
     "output_type": "stream",
     "text": [
      "INFO:tensorflow:Assets written to: C:\\Users\\visha\\AppData\\Local\\Temp\\tmpgyd8szvn\\assets\n"
     ]
    },
    {
     "name": "stderr",
     "output_type": "stream",
     "text": [
      "INFO:tensorflow:Assets written to: C:\\Users\\visha\\AppData\\Local\\Temp\\tmpgyd8szvn\\assets\n"
     ]
    },
    {
     "name": "stdout",
     "output_type": "stream",
     "text": [
      "Quantized model saved as model_quantized.tflite\n"
     ]
    }
   ],
   "source": [
    "converter = tf.lite.TFLiteConverter.from_keras_model(model)\n",
    "converter.optimizations = [tf.lite.Optimize.DEFAULT]\n",
    "\n",
    "tflite_model = converter.convert()\n",
    "\n",
    "with open('D:\\Thesis\\Example_accelerometer\\model_quantized.tflite', 'wb') as f:\n",
    "    f.write(tflite_model)\n",
    "print(\"Quantized model saved as model_quantized.tflite\")"
   ]
  },
  {
   "cell_type": "code",
   "execution_count": null,
   "metadata": {},
   "outputs": [],
   "source": []
  }
 ],
 "metadata": {
  "kernelspec": {
   "display_name": "Python 3 (ipykernel)",
   "language": "python",
   "name": "python3"
  },
  "language_info": {
   "codemirror_mode": {
    "name": "ipython",
    "version": 3
   },
   "file_extension": ".py",
   "mimetype": "text/x-python",
   "name": "python",
   "nbconvert_exporter": "python",
   "pygments_lexer": "ipython3",
   "version": "3.7.4"
  }
 },
 "nbformat": 4,
 "nbformat_minor": 4
}
