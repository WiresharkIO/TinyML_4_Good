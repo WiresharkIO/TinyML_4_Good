{
 "cells": [
  {
   "cell_type": "code",
   "execution_count": null,
   "metadata": {
    "colab": {
     "base_uri": "https://localhost:8080/"
    },
    "id": "FdPQ9-ACn1Br",
    "outputId": "df316092-b84f-48f6-90ce-1275c1fb22ad"
   },
   "outputs": [],
   "source": [
    "%tensorflow_version 2.1\n",
    "\n",
    "import tensorflow as tf\n",
    "import numpy as np\n",
    "import matplotlib.pyplot as plt\n",
    "import math\n",
    "from tensorflow.keras import layers\n",
    "\n",
    "\n"
   ]
  },
  {
   "cell_type": "code",
   "execution_count": null,
   "metadata": {
    "id": "yDJVRw_55HxN"
   },
   "outputs": [],
   "source": [
    "# using Tensorflow implementation for dense layer\n",
    "# units represent number of outputs\n",
    "layer = tf.keras.layers.Dense(units=2)"
   ]
  },
  {
   "cell_type": "code",
   "execution_count": null,
   "metadata": {
    "id": "Ja6Ug7DI0Ip8"
   },
   "outputs": [],
   "source": [
    "class MyDenseLayer(tf.keras.layers.Layer):\n",
    "  def __init__(self, input_dim, output_dim):\n",
    "    super(MyDenseLayer, self).__init__()\n",
    "\n",
    "    # Initialize weights and bias\n",
    "    self.W = self.add_weight([input_dim, output_dim])\n",
    "    self.B = self.add_weights([1, output_dim])\n",
    "\n",
    "  def call(self, inputs):\n",
    "    # Forward propagate the inputs\n",
    "    z = tf.matmul(inputs, self.W) + self.B\n",
    "\n",
    "    # Feed through a non-linear activation\n",
    "    output = tf.math.sigmoid(z)\n",
    "\n",
    "    return output\n"
   ]
  },
  {
   "cell_type": "code",
   "execution_count": null,
   "metadata": {
    "colab": {
     "base_uri": "https://localhost:8080/"
    },
    "id": "LOyVj5xNplaA",
    "outputId": "ecf81464-1311-463c-c9e1-5d73b354110d"
   },
   "outputs": [],
   "source": [
    "# Print versions\n",
    "!python --versions\n",
    "print('Numpy ' + np.__version__)\n",
    "# print('TensorFlow ' + tf.__version__)\n",
    "# print('Keras ' + tf.keras.__version__)\n",
    "print('TensorFlow ' + tf.__version__)\n",
    "# print('Keras ' + tf.keras.__version__)\n",
    "\n"
   ]
  },
  {
   "cell_type": "code",
   "execution_count": null,
   "metadata": {
    "id": "9ccngYYGpnzk"
   },
   "outputs": [],
   "source": [
    "# Settings\n",
    "nsamples = 1000     # Number of samples to use as a dataset\n",
    "val_ratio = 0.2     # Percentage of samples that should be held for validation set\n",
    "test_ratio = 0.2    # Percentage of samples that should be held for test set\n",
    "tflite_model_name = 'sine_model'  # Will be given .tflite suffix\n",
    "c_model_name = 'sine_model'       # Will be given .h suffix"
   ]
  },
  {
   "cell_type": "code",
   "execution_count": null,
   "metadata": {
    "colab": {
     "base_uri": "https://localhost:8080/",
     "height": 448
    },
    "id": "5vEGCmVWp1P9",
    "outputId": "a6679a16-94ed-4838-9320-9f57811e9889"
   },
   "outputs": [],
   "source": [
    "np.random.seed(1234)\n",
    "x_values = np.random.uniform(low=0, high=(2 * math.pi), size=nsamples)\n",
    "plt.plot(x_values[:10])\n",
    "# plt.plot(x_values)\n",
    "# x_values[:10]"
   ]
  },
  {
   "cell_type": "code",
   "execution_count": null,
   "metadata": {
    "colab": {
     "base_uri": "https://localhost:8080/",
     "height": 448
    },
    "id": "7HbHqFjVvJvw",
    "outputId": "b5ffc0eb-f5ef-4896-be5d-5c6051a2f5aa"
   },
   "outputs": [],
   "source": [
    "# Create a noisy sinewave with these values\n",
    "# First part normal sine function, second part is a gaussian Noise.\n",
    "y_values = np.sin(x_values) + (0.1 * np.random.randn(x_values.shape[0]))\n",
    "plt.plot(x_values, y_values, '.')"
   ]
  },
  {
   "cell_type": "code",
   "execution_count": null,
   "metadata": {
    "colab": {
     "base_uri": "https://localhost:8080/",
     "height": 430
    },
    "id": "wclWi5EDyjO4",
    "outputId": "7bfd3cbc-937d-47c9-8bbb-9a7d0eb283f3"
   },
   "outputs": [],
   "source": [
    "# Plit the dataset into training, validation, and test sets\n",
    "val_split = int(val_ratio * nsamples)\n",
    "test_split = int(val_split + (test_ratio * nsamples))\n",
    "x_val, x_test, x_train = np.split(x_values, [val_split, test_split])\n",
    "y_val, y_test, y_train = np.split(y_values, [val_split, test_split])\n",
    "\n",
    "# Check that our splits add up correctly\n",
    "assert(x_train.size + x_val.size + x_test.size) == nsamples\n",
    "\n",
    "# Plot the data in each partition in different colors:\n",
    "plt.plot(x_train, y_train, 'b.', label=\"Train\")\n",
    "plt.plot(x_test, y_test, 'r.', label=\"Test\")\n",
    "plt.plot(x_val, y_val, 'y.', label=\"Validate\")\n",
    "plt.legend()\n",
    "plt.show()"
   ]
  },
  {
   "cell_type": "code",
   "execution_count": null,
   "metadata": {
    "id": "EG9k5Fz2R1_p"
   },
   "outputs": [],
   "source": [
    "# Create a model\n",
    "model = tf.keras.Sequential()\n",
    "model.add(layers.Dense(16, activation='relu', input_shape=(1,)))\n",
    "model.add(layers.Dense(16, activation='relu'))\n",
    "model.add(layers.Dense(1))"
   ]
  },
  {
   "cell_type": "markdown",
   "metadata": {
    "id": "V83nnWoqzJtz"
   },
   "source": [
    "# New Section"
   ]
  },
  {
   "cell_type": "code",
   "execution_count": null,
   "metadata": {
    "colab": {
     "base_uri": "https://localhost:8080/"
    },
    "id": "1nlP2laASCnM",
    "outputId": "f8c294e7-55c9-4786-e631-523b2c690d35"
   },
   "outputs": [],
   "source": [
    "model.summary()"
   ]
  },
  {
   "cell_type": "code",
   "execution_count": null,
   "metadata": {
    "id": "gdm9SP0CSHEY"
   },
   "outputs": [],
   "source": [
    "model.compile(optimizer='rmsprop', loss='mae', metrics=['mae'])"
   ]
  },
  {
   "cell_type": "code",
   "execution_count": null,
   "metadata": {
    "colab": {
     "base_uri": "https://localhost:8080/"
    },
    "id": "u9SHg5SlSPfz",
    "outputId": "0cf4665e-7bb7-4b63-a08e-b4be5a5de1cd"
   },
   "outputs": [],
   "source": [
    "# Train model\n",
    "history = model.fit(x_train,\n",
    "                    y_train,\n",
    "                    epochs=500,\n",
    "                    batch_size=100,\n",
    "                    validation_data=(x_val, y_val))"
   ]
  },
  {
   "cell_type": "code",
   "execution_count": null,
   "metadata": {
    "colab": {
     "base_uri": "https://localhost:8080/",
     "height": 452
    },
    "id": "EgJyd3aAShle",
    "outputId": "e19bdc7e-5b5f-4699-f110-3ece342b95e9"
   },
   "outputs": [],
   "source": [
    "# Plot the training history\n",
    "loss = history.history['loss']\n",
    "val_loss = history.history['val_loss']\n",
    "\n",
    "epochs = range(1, len(loss) + 1)\n",
    "\n",
    "plt.plot(epochs, loss, 'bo', label='Training loss')\n",
    "plt.plot(epochs, val_loss, 'b', label='Validation loss')\n",
    "plt.title('Training and validation loss')\n",
    "plt.legend()\n",
    "plt.show()"
   ]
  },
  {
   "cell_type": "code",
   "execution_count": null,
   "metadata": {
    "colab": {
     "base_uri": "https://localhost:8080/",
     "height": 470
    },
    "id": "ARqwCWM4fbMD",
    "outputId": "ede3f5ee-c320-4bf6-cbcc-3aca76a3c2b6"
   },
   "outputs": [],
   "source": [
    "# Plot predictions against actual values\n",
    "predictions = model.predict(x_test)\n",
    "\n",
    "plt.clf()\n",
    "plt.title(\"Comparison of predictions to actual values\")\n",
    "plt.plot(x_test, y_test, 'b.', label='Actual')\n",
    "plt.plot(x_test, predictions, 'r.', label='Prediction')\n",
    "plt.legend()\n",
    "plt.show()"
   ]
  },
  {
   "cell_type": "code",
   "execution_count": null,
   "metadata": {
    "colab": {
     "base_uri": "https://localhost:8080/"
    },
    "id": "8M97XX5Dff31",
    "outputId": "3a46541e-526e-4b17-bb56-b827c9601aa1"
   },
   "outputs": [],
   "source": [
    "# Convert Keras model to a tflite model\n",
    "converter = tf.lite.TFLiteConverter.from_keras_model(model)\n",
    "converter.optimizations = [tf.lite.Optimize.OPTIMIZE_FOR_SIZE]\n",
    "tflite_model = converter.convert()\n",
    "\n",
    "open(tflite_model_name + '.tflite', 'wb').write(tflite_model)"
   ]
  },
  {
   "cell_type": "code",
   "execution_count": null,
   "metadata": {
    "id": "WvOVgewIyIHS"
   },
   "outputs": [],
   "source": [
    "# Function: Convert some hex value into an array for C programming\n",
    "def hex_to_c_array(hex_data, var_name):\n",
    "\n",
    "  c_str = ''\n",
    "\n",
    "  # Create header guard\n",
    "  c_str += '#ifndef ' + var_name.upper() + '_H\\n'\n",
    "  c_str += '#define ' + var_name.upper() + '_H\\n\\n'\n",
    "\n",
    "  # Add array length at top of file\n",
    "  c_str += '\\nunsigned int ' + var_name + '_len = ' + str(len(hex_data)) + ';\\n'\n",
    "\n",
    "  # Declare C variable\n",
    "  c_str += 'unsigned char ' + var_name + '[] = {'\n",
    "  hex_array = []\n",
    "  for i, val in enumerate(hex_data) :\n",
    "\n",
    "    # Construct string from hex\n",
    "    hex_str = format(val, '#04x')\n",
    "\n",
    "    # Add formatting so each line stays within 80 characters\n",
    "    if (i + 1) < len(hex_data):\n",
    "      hex_str += ','\n",
    "    if (i + 1) % 12 == 0:\n",
    "      hex_str += '\\n '\n",
    "    hex_array.append(hex_str)\n",
    "\n",
    "  # Add closing brace\n",
    "  c_str += '\\n ' + format(' '.join(hex_array)) + '\\n};\\n\\n'\n",
    "\n",
    "  # Close out header guard\n",
    "  c_str += '#endif //' + var_name.upper() + '_H'\n",
    "\n",
    "  return c_str"
   ]
  },
  {
   "cell_type": "code",
   "execution_count": null,
   "metadata": {
    "colab": {
     "base_uri": "https://localhost:8080/",
     "height": 182
    },
    "id": "V8DR0GE_yOfL",
    "outputId": "f6824f16-5830-46f2-d08d-41bb67c5f5c3"
   },
   "outputs": [],
   "source": [
    "# Write TFLite model to a C source (or header) file\n",
    "with open(c_model_name + '.h', 'w') as file:\n",
    "  file.write(hex_to_c_array(tflite_model, c_model_name))"
   ]
  },
  {
   "cell_type": "code",
   "execution_count": null,
   "metadata": {
    "colab": {
     "base_uri": "https://localhost:8080/"
    },
    "id": "a4A_P2JgClUZ",
    "outputId": "89af8ec3-4f37-4184-f790-2cfbaf413fda"
   },
   "outputs": [],
   "source": [
    "model.predict(np.array([0.0, 1.0, 2.0, 3.0, 4.0, 5.0, 6.0]))"
   ]
  }
 ],
 "metadata": {
  "colab": {
   "provenance": [],
   "toc_visible": true
  },
  "kernelspec": {
   "display_name": "Python 3 (ipykernel)",
   "language": "python",
   "name": "python3"
  },
  "language_info": {
   "codemirror_mode": {
    "name": "ipython",
    "version": 3
   },
   "file_extension": ".py",
   "mimetype": "text/x-python",
   "name": "python",
   "nbconvert_exporter": "python",
   "pygments_lexer": "ipython3",
   "version": "3.7.4"
  }
 },
 "nbformat": 4,
 "nbformat_minor": 1
}
